{
 "cells": [
  {
   "cell_type": "markdown",
   "id": "86de99b0-3170-45d6-84eb-adbd622af936",
   "metadata": {},
   "source": [
    "# Continue from intermediate results\n",
    "\n",
    "## Overview\n",
    "\n",
    "It is a common need to be able to continue the pipeline from some intermediate result computed earlier.\n",
    "\n"
   ]
  },
  {
   "cell_type": "markdown",
   "id": "35b9c4ac-f1a3-4b96-8ad0-8bc6b2588e58",
   "metadata": {
    "jp-MarkdownHeadingCollapsed": true
   },
   "source": [
    "## Setup\n",
    "\n",
    "Lets look at a situation where we have some \"raw\" data files and the workflow consists of three steps\n",
    "  * loading the raw data\n",
    "  * cleaning the raw data\n",
    "  * computing a sum of the cleaned data."
   ]
  },
  {
   "cell_type": "code",
   "execution_count": null,
   "id": "bb0ecea3-5b0d-44da-a363-2a0e861b0235",
   "metadata": {},
   "outputs": [],
   "source": [
    "from typing import NewType\n",
    "\n",
    "Filename = NewType('Filename', str)\n",
    "RawData = NewType('RawData', list)\n",
    "CleanData = NewType('CleanData', list)\n",
    "Result = NewType('Result', list)\n",
    "\n",
    "filesystem = {'raw.txt': list(map(str, range(10)))}\n",
    "\n",
    "def load(filename: Filename) -> RawData:\n",
    "    \"\"\"Load the data from the filename.\"\"\"\n",
    "    data = filesystem[filename]\n",
    "    return RawData(data)\n",
    "\n",
    "def clean(raw_data: RawData) -> CleanData:\n",
    "    \"\"\"Clean the data, convert from str.\"\"\"\n",
    "    return CleanData(list(map(float, raw_data)))\n",
    "\n",
    "def process(clean_data: CleanData) -> Result:\n",
    "    \"\"\"Compute the sum of the clean data.\"\"\"\n",
    "    return Result(sum(clean_data))\n"
   ]
  },
  {
   "cell_type": "code",
   "execution_count": null,
   "id": "1a4d59ab-4022-4eef-8566-d1b37f9cea7f",
   "metadata": {},
   "outputs": [],
   "source": [
    "import sciline\n",
    "\n",
    "pipeline = sciline.Pipeline(\n",
    "    [load, clean, process,],\n",
    "    params={ Filename: 'raw.txt', })\n",
    "pipeline"
   ]
  },
  {
   "cell_type": "markdown",
   "id": "8fa7a168-be19-419a-b7b0-dfe6e150134b",
   "metadata": {},
   "source": [
    "## Setting intermediate results"
   ]
  },
  {
   "cell_type": "markdown",
   "id": "e68f8022-0369-4abd-a516-ac99432812f3",
   "metadata": {},
   "source": [
    "If we select `Result` the task graph will use the `Filename` input because it needs to read the raw data from the file system:"
   ]
  },
  {
   "cell_type": "code",
   "execution_count": null,
   "id": "837135eb-c858-484e-91b5-b47917aefe57",
   "metadata": {},
   "outputs": [],
   "source": [
    "pipeline.get(Result)"
   ]
  },
  {
   "cell_type": "markdown",
   "id": "3f504103-daa3-427d-9e8c-a4aa332b1f72",
   "metadata": {},
   "source": [
    "But if the cleaned data has already been produced it is unnecessary to \"re-clean\" it, in that case we can proceed directly from the clean data to the compute sum step.\n",
    "To do this we replace the `CleanData` provider with the data that was loaded and cleaned:"
   ]
  },
  {
   "cell_type": "code",
   "execution_count": null,
   "id": "0b54414b-19d0-43aa-b44a-05ae94bd8086",
   "metadata": {},
   "outputs": [],
   "source": [
    "data = pipeline.compute(CleanData)\n",
    "pipeline[CleanData] = data\n",
    "pipeline"
   ]
  },
  {
   "cell_type": "markdown",
   "id": "0596304b-d38a-4b35-b85d-41a7a4dc2605",
   "metadata": {},
   "source": [
    "Then if we select `Result` the task graph will no longer use the `Filename` input and instead it will proceed directly from the `CleanData` as input:"
   ]
  },
  {
   "cell_type": "code",
   "execution_count": null,
   "id": "71a0c735-b095-4fb0-bf92-1e424e7ea744",
   "metadata": {},
   "outputs": [],
   "source": [
    "pipeline.get(Result)"
   ]
  },
  {
   "cell_type": "code",
   "execution_count": null,
   "id": "2594ab08-03cd-474a-8690-9b54978d8cf0",
   "metadata": {},
   "outputs": [],
   "source": [
    "pipeline.compute(Result)"
   ]
  }
 ],
 "metadata": {
  "kernelspec": {
   "display_name": "Python 3 (ipykernel)",
   "language": "python",
   "name": "python3"
  },
  "language_info": {
   "codemirror_mode": {
    "name": "ipython",
    "version": 3
   },
   "file_extension": ".py",
   "mimetype": "text/x-python",
   "name": "python",
   "nbconvert_exporter": "python",
   "pygments_lexer": "ipython3",
   "version": "3.10.12"
  }
 },
 "nbformat": 4,
 "nbformat_minor": 5
}
