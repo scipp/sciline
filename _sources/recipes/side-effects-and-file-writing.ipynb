{
 "cells": [
  {
   "cell_type": "markdown",
   "id": "0",
   "metadata": {},
   "source": [
    "# Avoiding side effects\n",
    "\n",
    "It is strongly discouraged to use [side effects](https://en.wikipedia.org/wiki/Side_effect_%28computer_science%29) in code that runs as part of a pipeline.\n",
    "This applies to, among others, file output, setting global variables, or communicating over a network.\n",
    "The reason is that side effects rely on code running in a specific order.\n",
    "But pipelines in Sciline have a relaxed notion of time in that the scheduler determines when and if a provider runs."
   ]
  },
  {
   "cell_type": "markdown",
   "id": "1",
   "metadata": {},
   "source": [
    "## File output\n",
    "\n",
    "Files typically only need to be written at the end of a pipeline.\n",
    "We can use [Pipeline.bind_and_call](../generated/classes/sciline.Pipeline.rst#sciline.Pipeline.bind_and_call) to call a function which writes the file:"
   ]
  },
  {
   "cell_type": "code",
   "execution_count": null,
   "id": "2",
   "metadata": {},
   "outputs": [],
   "source": [
    "from typing import NewType\n",
    "\n",
    "import sciline\n",
    "\n",
    "_fake_filesystem = {}\n",
    "\n",
    "Param = NewType('Param', float)\n",
    "Data = NewType('Data', float)\n",
    "Filename = NewType('Filename', str)\n",
    "\n",
    "\n",
    "def foo(p: Param) -> Data:\n",
    "    return Data(2 * p)\n",
    "\n",
    "\n",
    "def write_file(d: Data, filename: Filename) -> None:\n",
    "    _fake_filesystem[filename] = d\n",
    "\n",
    "\n",
    "pipeline = sciline.Pipeline([foo], params={Param: 3.1, Filename: 'output.dat'})\n",
    "\n",
    "pipeline.bind_and_call(write_file)"
   ]
  },
  {
   "cell_type": "code",
   "execution_count": null,
   "id": "3",
   "metadata": {},
   "outputs": [],
   "source": [
    "_fake_filesystem"
   ]
  },
  {
   "cell_type": "markdown",
   "id": "4",
   "metadata": {},
   "source": [
    "We could also write the file using"
   ]
  },
  {
   "cell_type": "code",
   "execution_count": null,
   "id": "5",
   "metadata": {},
   "outputs": [],
   "source": [
    "write_file(pipeline.compute(Data), 'output.dat')"
   ]
  },
  {
   "cell_type": "markdown",
   "id": "6",
   "metadata": {},
   "source": [
    "But `bind_and_call` allows us to request additional parameters like the file name from the pipeline.\n",
    "This is especially useful in combination with [generic providers](../user-guide/generic-providers.ipynb) or [parameter tables](../user-guide/parameter-tables.ipynb).\n",
    "\n",
    "**Why is this better than writing a file in a provider?**\n",
    "Using `bind_and_call` guarantees that the file gets written and that it gets written after the pipeline.\n",
    "The latter prevents providers from accidentally relying on the file."
   ]
  }
 ],
 "metadata": {
  "kernelspec": {
   "display_name": "Python 3 (ipykernel)",
   "language": "python",
   "name": "python3"
  },
  "language_info": {
   "codemirror_mode": {
    "name": "ipython",
    "version": 3
   },
   "file_extension": ".py",
   "mimetype": "text/x-python",
   "name": "python",
   "nbconvert_exporter": "python",
   "pygments_lexer": "ipython3",
   "version": "3.10.12"
  }
 },
 "nbformat": 4,
 "nbformat_minor": 5
}
