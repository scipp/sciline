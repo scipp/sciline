{
 "cells": [
  {
   "cell_type": "markdown",
   "id": "0",
   "metadata": {},
   "source": [
    "# Replacing providers\n",
    "\n",
    "This example shows how to replace a provider in the pipeline using the `Pipeline.insert` method."
   ]
  },
  {
   "cell_type": "markdown",
   "id": "1",
   "metadata": {},
   "source": [
    "## Setup\n",
    "\n",
    "Lets look at a situation where we have some \"raw\" data files and the workflow consists of three steps\n",
    "  * loading the raw data\n",
    "  * cleaning the raw data\n",
    "  * computing a sum of the cleaned data."
   ]
  },
  {
   "cell_type": "code",
   "execution_count": null,
   "id": "2",
   "metadata": {},
   "outputs": [],
   "source": [
    "from typing import NewType\n",
    "import sciline\n",
    "\n",
    "Filename = NewType('Filename', str)\n",
    "RawData = NewType('RawData', list)\n",
    "CleanData = NewType('CleanData', list)\n",
    "Result = NewType('Result', list)\n",
    "\n",
    "filesystem = {'raw.txt': list(map(str, range(10)))}\n",
    "\n",
    "\n",
    "def load(filename: Filename) -> RawData:\n",
    "    \"\"\"Load the data from the filename.\"\"\"\n",
    "    data = filesystem[filename]\n",
    "    return RawData(data)\n",
    "\n",
    "\n",
    "def clean(raw_data: RawData) -> CleanData:\n",
    "    \"\"\"Clean the data, convert from str.\"\"\"\n",
    "    return CleanData(list(map(float, raw_data)))\n",
    "\n",
    "\n",
    "def process(clean_data: CleanData) -> Result:\n",
    "    \"\"\"Compute the sum of the clean data.\"\"\"\n",
    "    return Result(sum(clean_data))\n",
    "\n",
    "\n",
    "pipeline = sciline.Pipeline(\n",
    "    [\n",
    "        load,\n",
    "        clean,\n",
    "        process,\n",
    "    ],\n",
    "    params={\n",
    "        Filename: 'raw.txt',\n",
    "    },\n",
    ")\n",
    "pipeline"
   ]
  },
  {
   "cell_type": "markdown",
   "id": "3",
   "metadata": {},
   "source": [
    "## Replacing a provider using `Pipeline.insert`"
   ]
  },
  {
   "cell_type": "markdown",
   "id": "4",
   "metadata": {},
   "source": [
    "Let's say the `clean` provider doesn't do all the preprocessing that we want it to do, we also want to remove either the odd or even numbers before processing:"
   ]
  },
  {
   "cell_type": "code",
   "execution_count": null,
   "id": "5",
   "metadata": {},
   "outputs": [],
   "source": [
    "from typing import NewType\n",
    "\n",
    "Target = NewType('Target', str)\n",
    "\n",
    "\n",
    "def clean_and_remove_some(raw_data: RawData, target: Target) -> CleanData:\n",
    "    if target == 'odd':\n",
    "        return [n for n in map(float, raw_data) if n % 2 == 1]\n",
    "    if target == 'even':\n",
    "        return [n for n in map(float, raw_data) if n % 2 == 0]\n",
    "    raise ValueError"
   ]
  },
  {
   "cell_type": "markdown",
   "id": "6",
   "metadata": {},
   "source": [
    "To replace the old `CleanData` provider we need to use `Pipeline.insert`:"
   ]
  },
  {
   "cell_type": "code",
   "execution_count": null,
   "id": "7",
   "metadata": {},
   "outputs": [],
   "source": [
    "pipeline.insert(clean_and_remove_some)\n",
    "pipeline[Target] = 'odd'"
   ]
  },
  {
   "cell_type": "code",
   "execution_count": null,
   "id": "8",
   "metadata": {},
   "outputs": [],
   "source": [
    "pipeline"
   ]
  },
  {
   "cell_type": "markdown",
   "id": "9",
   "metadata": {},
   "source": [
    "Now if we select the `Result` we see that the new provider will be used in the computation:"
   ]
  },
  {
   "cell_type": "code",
   "execution_count": null,
   "id": "10",
   "metadata": {},
   "outputs": [],
   "source": [
    "pipeline.get(Result)"
   ]
  },
  {
   "cell_type": "code",
   "execution_count": null,
   "id": "11",
   "metadata": {},
   "outputs": [],
   "source": [
    "pipeline.compute(Result)"
   ]
  }
 ],
 "metadata": {
  "kernelspec": {
   "display_name": "Python 3 (ipykernel)",
   "language": "python",
   "name": "python3"
  },
  "language_info": {
   "codemirror_mode": {
    "name": "ipython",
    "version": 3
   },
   "file_extension": ".py",
   "mimetype": "text/x-python",
   "name": "python",
   "nbconvert_exporter": "python",
   "pygments_lexer": "ipython3",
   "version": "3.10.12"
  }
 },
 "nbformat": 4,
 "nbformat_minor": 5
}
