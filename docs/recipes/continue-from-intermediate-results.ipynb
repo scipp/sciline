{
 "cells": [
  {
   "cell_type": "markdown",
   "id": "1b29e65b-73cb-4fc0-b9ad-1d7384a16578",
   "metadata": {},
   "source": [
    "# Continue from intermediate results\n",
    "\n",
    "It is a common need to be able to continue the pipeline from some intermediate result computed earlier.\n",
    "\n",
    "TLDR\n",
    "```python\n",
    "# Pipeline: Input -> CleanData -> Result\n",
    "data = pipeline.compute(CleanData)\n",
    "pipeline[CleanData] = data\n",
    "result = pipeline.compute(Result)\n",
    "```\n"
   ]
  },
  {
   "cell_type": "markdown",
   "id": "f239f707-bc9d-4f6f-997c-fb1c73e68223",
   "metadata": {},
   "source": [
    "## Setup\n",
    "\n",
    "Lets look at a situation where we have some \"raw\" data files and the workflow consists of three steps\n",
    "  * loading the raw data\n",
    "  * cleaning the raw data\n",
    "  * computing a sum of the cleaned data."
   ]
  },
  {
   "cell_type": "code",
   "execution_count": null,
   "id": "d2c46df9-43ad-4422-816a-a402df169587",
   "metadata": {},
   "outputs": [],
   "source": [
    "from typing import NewType\n",
    "\n",
    "Filename = NewType('Filename', str)\n",
    "RawData = NewType('RawData', list)\n",
    "CleanData = NewType('CleanData', list)\n",
    "Result = NewType('Result', list)\n",
    "\n",
    "filesystem = {'raw.txt': list(map(str, range(10)))}\n",
    "\n",
    "def load(filename: Filename) -> RawData:\n",
    "    \"\"\"Load the data from the filename.\"\"\"\n",
    "    data = filesystem[filename]\n",
    "    return RawData(data)\n",
    "\n",
    "def clean(raw_data: RawData) -> CleanData:\n",
    "    \"\"\"Clean the data, convert from str.\"\"\"\n",
    "    return CleanData(list(map(float, raw_data)))\n",
    "\n",
    "def process(clean_data: CleanData) -> Result:\n",
    "    \"\"\"Compute the sum of the clean data.\"\"\"\n",
    "    return Result(sum(clean_data))\n"
   ]
  },
  {
   "cell_type": "code",
   "execution_count": null,
   "id": "c7ae3a94-3259-4be1-bffc-720da04df9ed",
   "metadata": {},
   "outputs": [],
   "source": [
    "import sciline\n",
    "\n",
    "pipeline = sciline.Pipeline(\n",
    "    [load, clean, process,],\n",
    "    params={ Filename: 'raw.txt', })\n",
    "pipeline"
   ]
  },
  {
   "cell_type": "markdown",
   "id": "f5c4d999-6a85-4d7b-9b2f-751e261690e7",
   "metadata": {},
   "source": [
    "## Setting intermediate results"
   ]
  },
  {
   "cell_type": "markdown",
   "id": "91f0cfac-1440-4fbb-98f6-c6c9451f3275",
   "metadata": {},
   "source": [
    "Given a pipeline, we may want to compute an intermediate result for inspection:"
   ]
  },
  {
   "cell_type": "code",
   "execution_count": null,
   "id": "affba12d-dcc5-45b1-83c4-bcc61a6bbc92",
   "metadata": {},
   "outputs": [],
   "source": [
    "data = pipeline.compute(CleanData)"
   ]
  },
  {
   "cell_type": "markdown",
   "id": "ca41d0e1-19c5-4e08-bd56-db7ec7e437e2",
   "metadata": {},
   "source": [
    "If later on we wish to compute a result further down the pipeline (derived from `CleanData`), this would cause potentially costly re-computation of `CleanData`, since Sciline does not perform any caching:"
   ]
  },
  {
   "cell_type": "code",
   "execution_count": null,
   "id": "a54bf2e6-e00a-4dc3-a442-b16dd55c0031",
   "metadata": {},
   "outputs": [],
   "source": [
    "result = pipeline.compute(Result)  # re-computes CleanData"
   ]
  },
  {
   "cell_type": "markdown",
   "id": "b62ab5df-3010-4f0e-87a9-4dc416680929",
   "metadata": {},
   "source": [
    "To avoid this, we can use `Pipeline.__setitem__` to replace the provider of `CleanData` by the previously computed data:"
   ]
  },
  {
   "cell_type": "code",
   "execution_count": null,
   "id": "23fe22b8-b59e-4d63-9255-f510bbd8bec7",
   "metadata": {},
   "outputs": [],
   "source": [
    "pipeline[CleanData] = data\n",
    "result = pipeline.compute(Result)"
   ]
  }
 ],
 "metadata": {
  "kernelspec": {
   "display_name": "Python 3 (ipykernel)",
   "language": "python",
   "name": "python3"
  },
  "language_info": {
   "codemirror_mode": {
    "name": "ipython",
    "version": 3
   },
   "file_extension": ".py",
   "mimetype": "text/x-python",
   "name": "python",
   "nbconvert_exporter": "python",
   "pygments_lexer": "ipython3",
   "version": "3.10.12"
  }
 },
 "nbformat": 4,
 "nbformat_minor": 5
}
