{
 "cells": [
  {
   "cell_type": "markdown",
   "id": "1b29e65b-73cb-4fc0-b9ad-1d7384a16578",
   "metadata": {},
   "source": [
    "## Continue from intermediate results\n",
    "\n",
    "It is a common need to be able to continue the pipeline from some intermediate result computed earlier.\n",
    "\n"
   ]
  },
  {
   "cell_type": "markdown",
   "id": "f239f707-bc9d-4f6f-997c-fb1c73e68223",
   "metadata": {
    "jp-MarkdownHeadingCollapsed": true
   },
   "source": [
    "### Setup\n",
    "\n",
    "Lets look at a situation where we have some \"raw\" data files and the workflow consists of three steps\n",
    "  * loading the raw data\n",
    "  * cleaning the raw data\n",
    "  * computing a sum of the cleaned data."
   ]
  },
  {
   "cell_type": "code",
   "execution_count": null,
   "id": "d2c46df9-43ad-4422-816a-a402df169587",
   "metadata": {},
   "outputs": [],
   "source": [
    "from typing import NewType\n",
    "\n",
    "Filename = NewType('Filename', str)\n",
    "RawData = NewType('RawData', list)\n",
    "CleanData = NewType('CleanData', list)\n",
    "Result = NewType('Result', list)\n",
    "\n",
    "filesystem = {'raw.txt': list(map(str, range(10)))}\n",
    "\n",
    "def load(filename: Filename) -> RawData:\n",
    "    \"\"\"Load the data from the filename.\"\"\"\n",
    "    data = filesystem[filename]\n",
    "    return RawData(data)\n",
    "\n",
    "def clean(raw_data: RawData) -> CleanData:\n",
    "    \"\"\"Clean the data, convert from str.\"\"\"\n",
    "    return CleanData(list(map(float, raw_data)))\n",
    "\n",
    "def process(clean_data: CleanData) -> Result:\n",
    "    \"\"\"Compute the sum of the clean data.\"\"\"\n",
    "    return Result(sum(clean_data))\n"
   ]
  },
  {
   "cell_type": "code",
   "execution_count": null,
   "id": "c7ae3a94-3259-4be1-bffc-720da04df9ed",
   "metadata": {},
   "outputs": [],
   "source": [
    "import sciline\n",
    "\n",
    "pipeline = sciline.Pipeline(\n",
    "    [load, clean, process,],\n",
    "    params={ Filename: 'raw.txt', })\n",
    "pipeline"
   ]
  },
  {
   "cell_type": "markdown",
   "id": "f5c4d999-6a85-4d7b-9b2f-751e261690e7",
   "metadata": {},
   "source": [
    "### Setting intermediate results"
   ]
  },
  {
   "cell_type": "markdown",
   "id": "fdf05422-2a96-4127-a265-75c55122e582",
   "metadata": {},
   "source": [
    "If we select `Result` the task graph will use the `Filename` input because it needs to read the raw data from the file system:"
   ]
  },
  {
   "cell_type": "code",
   "execution_count": null,
   "id": "d6140e38-494a-4a91-aa85-57832aab64ad",
   "metadata": {},
   "outputs": [],
   "source": [
    "pipeline.get(Result)"
   ]
  },
  {
   "cell_type": "markdown",
   "id": "91f0cfac-1440-4fbb-98f6-c6c9451f3275",
   "metadata": {},
   "source": [
    "But if the cleaned data has already been produced it is unnecessary to \"re-clean\" it, in that case we can proceed directly from the clean data to the compute sum step.\n",
    "To do this we replace the `CleanData` provider with the data that was loaded and cleaned:"
   ]
  },
  {
   "cell_type": "code",
   "execution_count": null,
   "id": "23fe22b8-b59e-4d63-9255-f510bbd8bec7",
   "metadata": {},
   "outputs": [],
   "source": [
    "data = pipeline.compute(CleanData)\n",
    "pipeline[CleanData] = data\n",
    "pipeline"
   ]
  },
  {
   "cell_type": "markdown",
   "id": "be8abca9-50d1-4be3-8959-6c213cd35b7b",
   "metadata": {},
   "source": [
    "Then if we select `Result` the task graph will no longer use the `Filename` input and instead it will proceed directly from the `CleanData` as input:"
   ]
  },
  {
   "cell_type": "code",
   "execution_count": null,
   "id": "b1bd87c0-7633-4761-a34a-be1a2ac6a071",
   "metadata": {},
   "outputs": [],
   "source": [
    "pipeline.get(Result)"
   ]
  },
  {
   "cell_type": "code",
   "execution_count": null,
   "id": "c94a40c9-d965-42ec-a739-b45d73ad3260",
   "metadata": {},
   "outputs": [],
   "source": [
    "pipeline.compute(Result)"
   ]
  }
 ],
 "metadata": {
  "kernelspec": {
   "display_name": "Python 3 (ipykernel)",
   "language": "python",
   "name": "python3"
  },
  "language_info": {
   "codemirror_mode": {
    "name": "ipython",
    "version": 3
   },
   "file_extension": ".py",
   "mimetype": "text/x-python",
   "name": "python",
   "nbconvert_exporter": "python",
   "pygments_lexer": "ipython3",
   "version": "3.10.12"
  }
 },
 "nbformat": 4,
 "nbformat_minor": 5
}
