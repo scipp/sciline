{
 "cells": [
  {
   "cell_type": "markdown",
   "id": "f7e2f743-54a3-4031-bb19-f2bd96d05de6",
   "metadata": {},
   "source": [
    "# Applying decorators\n",
    "\n",
    "When using decorators with providers, care must be taken to allow Sciline to recognize the argument and return types.\n",
    "This is done easiest with [functools.wraps](https://docs.python.org/3/library/functools.html#functools.wraps).\n",
    "The following decorator can be safely applied to providers:"
   ]
  },
  {
   "cell_type": "code",
   "execution_count": null,
   "id": "30ef6849-606e-4a32-aa75-e493bfdb0fcd",
   "metadata": {},
   "outputs": [],
   "source": [
    "import functools\n",
    "from typing import Any, TypeVar\n",
    "from collections.abc import Callable\n",
    "\n",
    "import sciline\n",
    "\n",
    "R = TypeVar('R')\n",
    "\n",
    "\n",
    "def deco(f: Callable[..., R]) -> Callable[..., R]:\n",
    "    @functools.wraps(f)\n",
    "    def impl(*args: Any, **kwargs: Any) -> R:\n",
    "        return f(*args, **kwargs)\n",
    "\n",
    "    return impl\n",
    "\n",
    "\n",
    "@deco\n",
    "def to_string(x: int) -> str:\n",
    "    return str(x)\n",
    "\n",
    "\n",
    "pipeline = sciline.Pipeline([to_string], params={int: 3})\n",
    "pipeline.compute(str)"
   ]
  },
  {
   "cell_type": "markdown",
   "id": "760f13d6-05be-4df0-90e3-348baa2dee8c",
   "metadata": {},
   "source": [
    "Omitting `functools.wraps` results in an error when computing results:"
   ]
  },
  {
   "cell_type": "code",
   "execution_count": null,
   "id": "ad2adc47-635a-4fa8-b804-cdde880c33ea",
   "metadata": {
    "editable": true,
    "slideshow": {
     "slide_type": ""
    },
    "tags": [
     "raises-exception"
    ]
   },
   "outputs": [],
   "source": [
    "def bad_deco(f: Callable[..., R]) -> Callable[..., R]:\n",
    "    def impl(*args: Any, **kwargs: Any) -> R:\n",
    "        return f(*args, **kwargs)\n",
    "\n",
    "    return impl\n",
    "\n",
    "\n",
    "@bad_deco\n",
    "def to_string(x: int) -> str:\n",
    "    return str(x)\n",
    "\n",
    "\n",
    "pipeline = sciline.Pipeline([to_string], params={int: 3})\n",
    "pipeline.compute(str)"
   ]
  },
  {
   "cell_type": "markdown",
   "id": "9b93319a-e54b-478d-952e-d6d0fb35704e",
   "metadata": {},
   "source": [
    "<div class=\"alert alert-info\">\n",
    "\n",
    "**Hint**\n",
    "\n",
    "For Python 3.10+, the decorator itself can be type-annoted like this:\n",
    "\n",
    "```python\n",
    "from typing import ParamSpec, TypeVar\n",
    "\n",
    "P = ParamSpec('P')\n",
    "R = TypeVar('R')\n",
    "\n",
    "def deco(f: Callable[P, R]) -> Callable[P, R]:\n",
    "    @functools.wraps(f)\n",
    "    def impl(*args: P.args, **kwargs: P.kwargs) -> R:\n",
    "        return f(*args, **kwargs)\n",
    "\n",
    "    return impl\n",
    "```\n",
    "\n",
    "This is good practice but not required by Sciline.\n",
    "\n",
    "</div>"
   ]
  }
 ],
 "metadata": {
  "kernelspec": {
   "display_name": "Python 3 (ipykernel)",
   "language": "python",
   "name": "python3"
  },
  "language_info": {
   "codemirror_mode": {
    "name": "ipython",
    "version": 3
   },
   "file_extension": ".py",
   "mimetype": "text/x-python",
   "name": "python",
   "nbconvert_exporter": "python",
   "pygments_lexer": "ipython3",
   "version": "3.9.18"
  }
 },
 "nbformat": 4,
 "nbformat_minor": 5
}
