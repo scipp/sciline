{
 "cells": [
  {
   "cell_type": "markdown",
   "id": "f839e644-4535-4a3d-8066-01a65e6b7f84",
   "metadata": {},
   "source": [
    "# Replacing providers\n",
    "\n",
    "This example shows how to replace a provider in the pipeline using the `Pipeline.insert` method."
   ]
  },
  {
   "cell_type": "markdown",
   "id": "a7117710-24cb-4c0c-be0c-3980898dc508",
   "metadata": {},
   "source": [
    "## Setup\n",
    "\n",
    "Lets look at a situation where we have some \"raw\" data files and the workflow consists of three steps\n",
    "  * loading the raw data\n",
    "  * cleaning the raw data\n",
    "  * computing a sum of the cleaned data."
   ]
  },
  {
   "cell_type": "code",
   "execution_count": null,
   "id": "5f43e5d7-94c9-4e96-9587-03bd063f1f24",
   "metadata": {},
   "outputs": [],
   "source": [
    "from typing import NewType\n",
    "import sciline\n",
    "\n",
    "Filename = NewType('Filename', str)\n",
    "RawData = NewType('RawData', list)\n",
    "CleanData = NewType('CleanData', list)\n",
    "Result = NewType('Result', list)\n",
    "\n",
    "filesystem = {'raw.txt': list(map(str, range(10)))}\n",
    "\n",
    "def load(filename: Filename) -> RawData:\n",
    "    \"\"\"Load the data from the filename.\"\"\"\n",
    "    data = filesystem[filename]\n",
    "    return RawData(data)\n",
    "\n",
    "def clean(raw_data: RawData) -> CleanData:\n",
    "    \"\"\"Clean the data, convert from str.\"\"\"\n",
    "    return CleanData(list(map(float, raw_data)))\n",
    "\n",
    "def process(clean_data: CleanData) -> Result:\n",
    "    \"\"\"Compute the sum of the clean data.\"\"\"\n",
    "    return Result(sum(clean_data))\n",
    "\n",
    "pipeline = sciline.Pipeline(\n",
    "    [load, clean, process,],\n",
    "    params={ Filename: 'raw.txt', })\n",
    "pipeline"
   ]
  },
  {
   "cell_type": "markdown",
   "id": "589842f1-24f4-4cab-87a1-0018949facaf",
   "metadata": {},
   "source": [
    "## Replacing a provider using `Pipeline.insert`"
   ]
  },
  {
   "cell_type": "markdown",
   "id": "a5454985-9b45-4416-95ca-0ba9d2603e79",
   "metadata": {},
   "source": [
    "Let's say the `clean` provider doesn't do all the preprocessing that we want it to do, we also want to remove either the odd or even numbers before processing:"
   ]
  },
  {
   "cell_type": "code",
   "execution_count": null,
   "id": "872863d7-4919-4e7a-855a-e7df5f86d488",
   "metadata": {},
   "outputs": [],
   "source": [
    "from typing import Literal, Union, NewType\n",
    "\n",
    "Target = NewType('Target', str)\n",
    "\n",
    "def clean_and_remove_some(raw_data: RawData, target: Target) -> CleanData:\n",
    "    if target == 'odd':\n",
    "        return [n for n in map(float, raw_data) if n % 2 == 1]\n",
    "    if target == 'even':\n",
    "        return [n for n in map(float, raw_data) if n % 2 == 0]\n",
    "    raise ValueError"
   ]
  },
  {
   "cell_type": "markdown",
   "id": "751f7f91-0b9e-4da9-92b8-4376c9317e93",
   "metadata": {},
   "source": [
    "To replace the old `CleanData` provider we need to use `Pipeline.insert`:"
   ]
  },
  {
   "cell_type": "code",
   "execution_count": null,
   "id": "f7f38468-7194-4735-bc4b-7e4de5866a3a",
   "metadata": {},
   "outputs": [],
   "source": [
    "pipeline.insert(clean_and_remove_some)\n",
    "pipeline[Target] = 'odd'"
   ]
  },
  {
   "cell_type": "code",
   "execution_count": null,
   "id": "56033cd9-6a99-40e3-b2ec-920de65b11bc",
   "metadata": {},
   "outputs": [],
   "source": [
    "pipeline"
   ]
  },
  {
   "cell_type": "markdown",
   "id": "85cc2c84-cda2-49ee-83ea-0155e6f54f26",
   "metadata": {},
   "source": [
    "Now if we select the `Result` we see that the new provider will be used in the computation:"
   ]
  },
  {
   "cell_type": "code",
   "execution_count": null,
   "id": "41ed69dd-dd2a-41bf-9e1a-0d3f83d55a35",
   "metadata": {},
   "outputs": [],
   "source": [
    "pipeline.get(Result)"
   ]
  },
  {
   "cell_type": "code",
   "execution_count": null,
   "id": "3ff92573-3944-4911-b32e-76774bef0c4d",
   "metadata": {},
   "outputs": [],
   "source": [
    "pipeline.compute(Result)"
   ]
  }
 ],
 "metadata": {
  "kernelspec": {
   "display_name": "Python 3 (ipykernel)",
   "language": "python",
   "name": "python3"
  },
  "language_info": {
   "codemirror_mode": {
    "name": "ipython",
    "version": 3
   },
   "file_extension": ".py",
   "mimetype": "text/x-python",
   "name": "python",
   "nbconvert_exporter": "python",
   "pygments_lexer": "ipython3",
   "version": "3.10.12"
  }
 },
 "nbformat": 4,
 "nbformat_minor": 5
}
