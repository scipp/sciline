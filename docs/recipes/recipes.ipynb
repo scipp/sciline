{
 "cells": [
  {
   "cell_type": "markdown",
   "id": "d7608bb4-d7ce-4a36-8021-f1a52ad27ec5",
   "metadata": {},
   "source": [
    "# Recipes"
   ]
  },
  {
   "cell_type": "markdown",
   "id": "0835a63d-f22a-477e-b887-9cdba171d8f0",
   "metadata": {},
   "source": [
    "## Avoiding side effects\n",
    "\n",
    "It is strongly discouraged to use [side effects](https://en.wikipedia.org/wiki/Side_effect_%28computer_science%29) in code that runs as part of a pipeline.\n",
    "This applies to, among others, file output, setting global variables, or communicating over a network.\n",
    "The reason is that side effects rely on code running in a specific order.\n",
    "But pipelines in Sciline have a relaxed notion of time in that the scheduler determines when and if a provider runs."
   ]
  },
  {
   "cell_type": "markdown",
   "id": "8abc6b15-7749-4247-9af0-84132ef81da1",
   "metadata": {},
   "source": [
    "### File output\n",
    "\n",
    "Files typically only need to be written at the end of a pipeline.\n",
    "We can use [Pipeline.bind_and_call](../generated/classes/sciline.Pipeline.rst#sciline.Pipeline.bind_and_call) to call a function which writes the file:"
   ]
  },
  {
   "cell_type": "code",
   "execution_count": null,
   "id": "8d39f143-c9da-4a7c-9ec8-ea7697b68b1b",
   "metadata": {},
   "outputs": [],
   "source": [
    "from typing import NewType\n",
    "\n",
    "import sciline\n",
    "\n",
    "_fake_filesystem = {}\n",
    "\n",
    "Param = NewType('Param', float)\n",
    "Data = NewType('Data', float)\n",
    "Filename = NewType('Filename', str)\n",
    "\n",
    "\n",
    "def foo(p: Param) -> Data:\n",
    "    return Data(2 * p)\n",
    "\n",
    "\n",
    "def write_file(d: Data, filename: Filename) -> None:\n",
    "    _fake_filesystem[filename] = d\n",
    "\n",
    "\n",
    "pipeline = sciline.Pipeline([foo], params={Param: 3.1, Filename: 'output.dat'})\n",
    "\n",
    "pipeline.bind_and_call(write_file)"
   ]
  },
  {
   "cell_type": "code",
   "execution_count": null,
   "id": "b7d08320-6e51-4c70-9e94-99533a6d12bb",
   "metadata": {},
   "outputs": [],
   "source": [
    "_fake_filesystem"
   ]
  },
  {
   "cell_type": "markdown",
   "id": "48134a65-6b21-4086-baf2-16ec31285331",
   "metadata": {},
   "source": [
    "We could also write the file using"
   ]
  },
  {
   "cell_type": "code",
   "execution_count": null,
   "id": "5e313561-6b54-441a-b496-d31864bf423c",
   "metadata": {},
   "outputs": [],
   "source": [
    "write_file(pipeline.compute(Data), 'output.dat')"
   ]
  },
  {
   "cell_type": "markdown",
   "id": "7c6f0501-cdee-4028-8e48-05588cd4a306",
   "metadata": {},
   "source": [
    "But `bind_and_call` allows us to request additional parameters like the file name from the pipeline.\n",
    "This is especially useful in combination with [generic providers](../user-guide/generic-providers.ipynb) or [parameter tables](../user-guide/parameter-tables.ipynb).\n",
    "\n",
    "**Why is this better than writing a file in a provider?**\n",
    "Using `bind_and_call` guarantees that the file gets written and that it gets written after the pipeline.\n",
    "The latter prevents providers from accidentally relying on the file."
   ]
  },
  {
   "cell_type": "markdown",
   "id": "60f9b2a8-0557-43da-a8d2-41df2794bd49",
   "metadata": {},
   "source": [
    "## Continue from intermediate results\n",
    "\n",
    "It is a common need to be able to continue the pipeline from some intermediate result computed earlier.\n",
    "\n"
   ]
  },
  {
   "cell_type": "markdown",
   "id": "aa1df625-9f6a-44d3-9169-1c79ff8e647f",
   "metadata": {
    "jp-MarkdownHeadingCollapsed": true
   },
   "source": [
    "### Setup\n",
    "\n",
    "Lets look at a situation where we have some \"raw\" data files and the workflow consists of three steps\n",
    "  * loading the raw data\n",
    "  * cleaning the raw data\n",
    "  * computing a sum of the cleaned data."
   ]
  },
  {
   "cell_type": "code",
   "execution_count": null,
   "id": "bb0ecea3-5b0d-44da-a363-2a0e861b0235",
   "metadata": {},
   "outputs": [],
   "source": [
    "from typing import NewType\n",
    "\n",
    "Filename = NewType('Filename', str)\n",
    "RawData = NewType('RawData', list)\n",
    "CleanData = NewType('CleanData', list)\n",
    "Result = NewType('Result', list)\n",
    "\n",
    "filesystem = {'raw.txt': list(map(str, range(10)))}\n",
    "\n",
    "def load(filename: Filename) -> RawData:\n",
    "    \"\"\"Load the data from the filename.\"\"\"\n",
    "    data = filesystem[filename]\n",
    "    return RawData(data)\n",
    "\n",
    "def clean(raw_data: RawData) -> CleanData:\n",
    "    \"\"\"Clean the data, convert from str.\"\"\"\n",
    "    return CleanData(list(map(float, raw_data)))\n",
    "\n",
    "def process(clean_data: CleanData) -> Result:\n",
    "    \"\"\"Compute the sum of the clean data.\"\"\"\n",
    "    return Result(sum(clean_data))\n"
   ]
  },
  {
   "cell_type": "code",
   "execution_count": null,
   "id": "1a4d59ab-4022-4eef-8566-d1b37f9cea7f",
   "metadata": {},
   "outputs": [],
   "source": [
    "import sciline\n",
    "\n",
    "pipeline = sciline.Pipeline(\n",
    "    [load, clean, process,],\n",
    "    params={ Filename: 'raw.txt', })\n",
    "pipeline"
   ]
  },
  {
   "cell_type": "markdown",
   "id": "a7870758-aa28-497d-adc9-863efe23e463",
   "metadata": {},
   "source": [
    "### Setting intermediate results"
   ]
  },
  {
   "cell_type": "markdown",
   "id": "74ace6e8-2e32-420b-b96d-dc67c8ce4ab7",
   "metadata": {},
   "source": [
    "If we select `Result` the task graph will use the `Filename` input because it needs to read the raw data from the file system:"
   ]
  },
  {
   "cell_type": "code",
   "execution_count": null,
   "id": "837135eb-c858-484e-91b5-b47917aefe57",
   "metadata": {},
   "outputs": [],
   "source": [
    "pipeline.get(Result)"
   ]
  },
  {
   "cell_type": "markdown",
   "id": "99fe0c69-597b-4384-96de-92b25b6e95cd",
   "metadata": {},
   "source": [
    "But if the cleaned data has already been produced it is unnecessary to \"re-clean\" it, in that case we can proceed directly from the clean data to the compute sum step.\n",
    "To do this we replace the `CleanData` provider with the data that was loaded and cleaned:"
   ]
  },
  {
   "cell_type": "code",
   "execution_count": null,
   "id": "0b54414b-19d0-43aa-b44a-05ae94bd8086",
   "metadata": {},
   "outputs": [],
   "source": [
    "data = pipeline.compute(CleanData)\n",
    "pipeline[CleanData] = data\n",
    "pipeline"
   ]
  },
  {
   "cell_type": "markdown",
   "id": "bda0ae77-9911-4cc1-9727-45a64b712875",
   "metadata": {},
   "source": [
    "Then if we select `Result` the task graph will no longer use the `Filename` input and instead it will proceed directly from the `CleanData` as input:"
   ]
  },
  {
   "cell_type": "code",
   "execution_count": null,
   "id": "71a0c735-b095-4fb0-bf92-1e424e7ea744",
   "metadata": {},
   "outputs": [],
   "source": [
    "pipeline.get(Result)"
   ]
  },
  {
   "cell_type": "code",
   "execution_count": null,
   "id": "2594ab08-03cd-474a-8690-9b54978d8cf0",
   "metadata": {},
   "outputs": [],
   "source": [
    "pipeline.compute(Result)"
   ]
  },
  {
   "cell_type": "markdown",
   "id": "f3d48a4a",
   "metadata": {},
   "source": [
    "## Replacing providers\n",
    "\n",
    "This example shows how to replace a provider in the pipeline using the `Pipeline.insert` method."
   ]
  },
  {
   "cell_type": "markdown",
   "id": "f05644be-ac0e-46c2-81a0-a4afe057e411",
   "metadata": {},
   "source": [
    "### Setup\n",
    "Same setup as in [Continue from intermediate results](#continue-from-intermediate-results)."
   ]
  },
  {
   "cell_type": "code",
   "execution_count": null,
   "id": "73fc851b",
   "metadata": {},
   "outputs": [],
   "source": [
    "pipeline = sciline.Pipeline(\n",
    "    [load, clean, process,],\n",
    "    params={ Filename: 'raw.txt', })\n",
    "pipeline"
   ]
  },
  {
   "cell_type": "markdown",
   "id": "e9b190a1-cca3-4c12-aef0-2169a9a90f55",
   "metadata": {},
   "source": [
    "### Replacing a provider using `Pipeline.insert`"
   ]
  },
  {
   "cell_type": "markdown",
   "id": "c9ff03a4-726a-4686-a31c-99fa420f57b2",
   "metadata": {},
   "source": [
    "Let's say the `clean` provider doesn't do all the preprocessing that we want it to do, we also want to remove either the odd or even numbers before processing:"
   ]
  },
  {
   "cell_type": "code",
   "execution_count": null,
   "id": "d56d330b-955c-4778-96e0-9201212b341f",
   "metadata": {},
   "outputs": [],
   "source": [
    "from typing import Literal, Union\n",
    "\n",
    "Target = NewType('Target', str)\n",
    "\n",
    "def clean_and_remove_some(raw_data: RawData, target: Target) -> CleanData:\n",
    "    if target == 'odd':\n",
    "        return [n for n in map(float, raw_data) if n % 2 == 1]\n",
    "    if target == 'even':\n",
    "        return [n for n in map(float, raw_data) if n % 2 == 0]\n",
    "    raise ValueError"
   ]
  },
  {
   "cell_type": "markdown",
   "id": "fb76644b-d81a-4866-aba8-5e644050439c",
   "metadata": {},
   "source": [
    "To replace the old `CleanData` provider we need to use `Pipeline.insert`:"
   ]
  },
  {
   "cell_type": "code",
   "execution_count": null,
   "id": "5fcc69e2-9617-4025-99dc-3ce9badfa16a",
   "metadata": {},
   "outputs": [],
   "source": [
    "pipeline.insert(clean_and_remove_some)\n",
    "pipeline[Target] = 'odd'"
   ]
  },
  {
   "cell_type": "code",
   "execution_count": null,
   "id": "39e740e6-89f8-4693-85e7-8443071da426",
   "metadata": {},
   "outputs": [],
   "source": [
    "pipeline"
   ]
  },
  {
   "cell_type": "markdown",
   "id": "e9c9006a-76e2-42d2-b35c-8a8e3abf8323",
   "metadata": {},
   "source": [
    "Now if we select the `Result` we see that the new provider will be used in the computation:"
   ]
  },
  {
   "cell_type": "code",
   "execution_count": null,
   "id": "deba51d9-a348-4f6c-9e06-df30c8c8ca38",
   "metadata": {},
   "outputs": [],
   "source": [
    "pipeline.get(Result)"
   ]
  },
  {
   "cell_type": "code",
   "execution_count": null,
   "id": "30bb4ff5-5fc0-4095-b4a2-a2e5e94824e8",
   "metadata": {},
   "outputs": [],
   "source": [
    "pipeline.compute(Result)"
   ]
  }
 ],
 "metadata": {
  "kernelspec": {
   "display_name": "Python 3 (ipykernel)",
   "language": "python",
   "name": "python3"
  },
  "language_info": {
   "codemirror_mode": {
    "name": "ipython",
    "version": 3
   },
   "file_extension": ".py",
   "mimetype": "text/x-python",
   "name": "python",
   "nbconvert_exporter": "python",
   "pygments_lexer": "ipython3",
   "version": "3.10.12"
  }
 },
 "nbformat": 4,
 "nbformat_minor": 5
}
