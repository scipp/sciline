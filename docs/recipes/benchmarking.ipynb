{
 "cells": [
  {
   "cell_type": "markdown",
   "id": "0",
   "metadata": {},
   "source": [
    "# Benchmarking\n",
    "\n",
    "Sciline provides a tool for benchmarking pipelines and individual providers.\n",
    "It can track the execution time and number of executions of each provider.\n",
    "First, we need a pipeline:"
   ]
  },
  {
   "cell_type": "code",
   "execution_count": null,
   "id": "1",
   "metadata": {},
   "outputs": [],
   "source": [
    "import time\n",
    "from typing import NewType, TypeVar\n",
    "\n",
    "import sciline\n",
    "\n",
    "T1 = NewType('T1', int)\n",
    "T2 = NewType('T2', int)\n",
    "T = TypeVar('T', T1, T2)\n",
    "class A(sciline.Scope[T, int], int):...\n",
    "class B(sciline.Scope[T, int], int):...\n",
    "\n",
    "C = NewType('C', int)\n",
    "D = NewType('D', int)\n",
    "\n",
    "def f1(a: A[T]) -> B[T]:\n",
    "    time.sleep(0.001)  # simulate a slow computation\n",
    "    return B[T](2 * a)\n",
    "\n",
    "def f2(b1: B[T1]) -> C:\n",
    "    time.sleep(0.01)\n",
    "    return C(b1 + 1)\n",
    "\n",
    "def f3(b2: B[T2], c: C) -> D:\n",
    "    return D(c - b2)\n",
    "\n",
    "pipeline = sciline.Pipeline((f1, f2, f3), params={A[T1]: 1, A[T2]: 10})\n",
    "pipeline.visualize(graph_attr={'rankdir': 'LR'})"
   ]
  },
  {
   "cell_type": "markdown",
   "id": "2",
   "metadata": {},
   "source": [
    "Now, we can use the [TimingReporter](../generated/modules/sciline.reporter.TimingReporter) when calling `compute` to track execution times:"
   ]
  },
  {
   "cell_type": "code",
   "execution_count": null,
   "id": "3",
   "metadata": {},
   "outputs": [],
   "source": [
    "from sciline.reporter import TimingReporter\n",
    "\n",
    "timer = TimingReporter()\n",
    "res = pipeline.compute(D, reporter=timer)\n",
    "res"
   ]
  },
  {
   "cell_type": "markdown",
   "id": "4",
   "metadata": {},
   "source": [
    "The times can be summarized like this:"
   ]
  },
  {
   "cell_type": "code",
   "execution_count": null,
   "id": "5",
   "metadata": {},
   "outputs": [],
   "source": [
    "print(timer.summary())"
   ]
  },
  {
   "cell_type": "markdown",
   "id": "6",
   "metadata": {},
   "source": [
    "Note how `f1` was executed twice, once to compute `B[T1]` and once for `B[T2]`.\n",
    "The report shows the total time spend in `f1` in the \"Sum\" column and the average time in the \"Mean\" column.\n",
    "\n",
    "If you have [Pandas](https://pandas.pydata.org/) installed, you can also get a more detailed report by using `as_pandas`:"
   ]
  },
  {
   "cell_type": "code",
   "execution_count": null,
   "id": "7",
   "metadata": {},
   "outputs": [],
   "source": [
    "timer.as_pandas()"
   ]
  },
  {
   "cell_type": "markdown",
   "id": "8",
   "metadata": {},
   "source": [
    "Bear in mind that the timer adds a small overhead to each provider call.\n",
    "So it will slow down the overall run time of the pipeline and should therefore not be used in production.\n",
    "But provider timings should be accurate."
   ]
  }
 ],
 "metadata": {
  "kernelspec": {
   "display_name": "Python 3",
   "language": "python",
   "name": "python3"
  },
  "language_info": {
   "codemirror_mode": {
    "name": "ipython",
    "version": 2
   },
   "file_extension": ".py",
   "mimetype": "text/x-python",
   "name": "python",
   "nbconvert_exporter": "python",
   "pygments_lexer": "ipython2",
   "version": "2.7.6"
  }
 },
 "nbformat": 4,
 "nbformat_minor": 5
}
