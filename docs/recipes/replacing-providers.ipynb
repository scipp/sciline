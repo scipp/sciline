{
 "cells": [
  {
   "cell_type": "markdown",
   "id": "86de99b0-3170-45d6-84eb-adbd622af936",
   "metadata": {},
   "source": [
    "# Replacing providers\n",
    "\n",
    "## Overview\n",
    "\n",
    "This example shows how to replace a provider in the pipeline using the `Pipeline.insert` method."
   ]
  },
  {
   "cell_type": "markdown",
   "id": "f05644be-ac0e-46c2-81a0-a4afe057e411",
   "metadata": {},
   "source": [
    "## Setup\n",
    "\n",
    "Lets look at a situation where we have some \"raw\" data files and the workflow consists of three steps\n",
    "  * loading the raw data\n",
    "  * cleaning the raw data\n",
    "  * computing a sum of the cleaned data."
   ]
  },
  {
   "cell_type": "code",
   "execution_count": null,
   "id": "bb0ecea3-5b0d-44da-a363-2a0e861b0235",
   "metadata": {},
   "outputs": [],
   "source": [
    "from typing import NewType\n",
    "\n",
    "Filename = NewType('Filename', str)\n",
    "RawData = NewType('RawData', list)\n",
    "CleanData = NewType('CleanData', list)\n",
    "Result = NewType('Result', list)\n",
    "\n",
    "filesystem = {'raw.txt': list(map(str, range(10)))}\n",
    "\n",
    "def load(filename: Filename) -> RawData:\n",
    "    \"\"\"Load the data from the filename.\"\"\"\n",
    "    data = filesystem[filename]\n",
    "    return RawData(data)\n",
    "\n",
    "def clean(raw_data: RawData) -> CleanData:\n",
    "    \"\"\"Clean the data, convert from str.\"\"\"\n",
    "    return CleanData(list(map(float, raw_data)))\n",
    "\n",
    "def process(clean_data: CleanData) -> Result:\n",
    "    \"\"\"Compute the sum of the clean data.\"\"\"\n",
    "    return Result(sum(clean_data))\n"
   ]
  },
  {
   "cell_type": "code",
   "execution_count": null,
   "id": "1a4d59ab-4022-4eef-8566-d1b37f9cea7f",
   "metadata": {},
   "outputs": [],
   "source": [
    "import sciline\n",
    "\n",
    "pipeline = sciline.Pipeline(\n",
    "    [load, clean, process,],\n",
    "    params={ Filename: 'raw.txt', })\n",
    "pipeline"
   ]
  },
  {
   "cell_type": "markdown",
   "id": "e9b190a1-cca3-4c12-aef0-2169a9a90f55",
   "metadata": {},
   "source": [
    "## Replacing a provider using `Pipeline.insert`"
   ]
  },
  {
   "cell_type": "markdown",
   "id": "c9ff03a4-726a-4686-a31c-99fa420f57b2",
   "metadata": {},
   "source": [
    "Let's say the `clean` provider doesn't do all the preprocessing that we want it to do, we also want to remove either the odd or even numbers before processing:"
   ]
  },
  {
   "cell_type": "code",
   "execution_count": null,
   "id": "d56d330b-955c-4778-96e0-9201212b341f",
   "metadata": {},
   "outputs": [],
   "source": [
    "from typing import Literal, Union\n",
    "\n",
    "Target = NewType('Target', str)\n",
    "\n",
    "def clean_and_remove_some(raw_data: RawData, target: Target) -> CleanData:\n",
    "    if target == 'odd':\n",
    "        return [n for n in map(float, raw_data) if n % 2 == 1]\n",
    "    if target == 'even':\n",
    "        return [n for n in map(float, raw_data) if n % 2 == 0]\n",
    "    raise ValueError"
   ]
  },
  {
   "cell_type": "markdown",
   "id": "fb76644b-d81a-4866-aba8-5e644050439c",
   "metadata": {},
   "source": [
    "To replace the old `CleanData` provider we need to use `Pipeline.insert`:"
   ]
  },
  {
   "cell_type": "code",
   "execution_count": null,
   "id": "5fcc69e2-9617-4025-99dc-3ce9badfa16a",
   "metadata": {},
   "outputs": [],
   "source": [
    "pipeline.insert(clean_and_remove_some)\n",
    "pipeline[Target] = 'odd'"
   ]
  },
  {
   "cell_type": "code",
   "execution_count": null,
   "id": "39e740e6-89f8-4693-85e7-8443071da426",
   "metadata": {},
   "outputs": [],
   "source": [
    "pipeline"
   ]
  },
  {
   "cell_type": "markdown",
   "id": "e9c9006a-76e2-42d2-b35c-8a8e3abf8323",
   "metadata": {},
   "source": [
    "Now if we select the `Result` we see that the new provider will be used in the computation:"
   ]
  },
  {
   "cell_type": "code",
   "execution_count": null,
   "id": "deba51d9-a348-4f6c-9e06-df30c8c8ca38",
   "metadata": {},
   "outputs": [],
   "source": [
    "pipeline.get(Result)"
   ]
  },
  {
   "cell_type": "code",
   "execution_count": null,
   "id": "30bb4ff5-5fc0-4095-b4a2-a2e5e94824e8",
   "metadata": {},
   "outputs": [],
   "source": [
    "pipeline.compute(Result)"
   ]
  }
 ],
 "metadata": {
  "kernelspec": {
   "display_name": "Python 3 (ipykernel)",
   "language": "python",
   "name": "python3"
  },
  "language_info": {
   "codemirror_mode": {
    "name": "ipython",
    "version": 3
   },
   "file_extension": ".py",
   "mimetype": "text/x-python",
   "name": "python",
   "nbconvert_exporter": "python",
   "pygments_lexer": "ipython3",
   "version": "3.10.12"
  }
 },
 "nbformat": 4,
 "nbformat_minor": 5
}
